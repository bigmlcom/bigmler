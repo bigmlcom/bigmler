{
"cells": [
{
"cell_type": "markdown",
"metadata": {},
"source": [
"Reified resource: source"
]
},
{
"cell_type": "markdown",
"metadata": {},
"source": [
"Remember to set your credentials in the BIGML_USERNAME and BIGML_API_KEY environment variables."
]
},
{
"cell_type": "code",
"execution_count": null,
"metadata": {},
"outputs": [],
"source": [
"from bigml.api import BigML\n",
"api = BigML()"
]
},
{
"cell_type": "markdown",
"metadata": {},
"source": [
"Add the inputs for the workflow"
]
},
{
"cell_type": "code",
"execution_count": null,
"metadata": {},
"outputs": [],
"source": [
"source1_file = \"iris.csv\""
]
},
{
"cell_type": "markdown",
"metadata": {},
"source": [
"<br/>Step 1<br/>Python for resource: my_source_name<br/>(open, table, 5 fields (1 categorical, 4 numeric))<br/>source<br/>}