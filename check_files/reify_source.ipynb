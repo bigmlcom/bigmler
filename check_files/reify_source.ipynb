{
"cells": [
{
"cell_type": "markdown",
"metadata": {},
"source": [
"Reified resource: source/5be37c142774cb26da000636"
]
},
{
"cell_type": "markdown",
"metadata": {},
"source": [
"Remember to set your credentials in the BIGML_USERNAME and BIGML_API_KEY environment variables."
]
},
{
"cell_type": "code",
"execution_count": null,
"metadata": {},
"outputs": [],
"source": [
"from bigml.api import BigML\n",
"api = BigML()"
]
},
{
"cell_type": "markdown",
"metadata": {},
"source": [
"Add the inputs for the workflow"
]
},
{
"cell_type": "code",
"execution_count": null,
"metadata": {},
"outputs": [],
"source": [
"source1_file = \"iris.csv\""
]
},
{
"cell_type": "markdown",
"metadata": {},
"source": [
"<br/>Step 1<br/>Python for resource: my_source_name<br/>(5 fields (1 categorical, 4 numeric))<br/>source/5be37c142774cb26da000636<br/>created by mmartin\n"
]
},
{
"cell_type": "code",
"execution_count": null,
"metadata": {},
"outputs": [],
"source": [
"args = \\\n",
"    {'fields': {'000000': {'name': 'sepal length', 'optype': 'numeric'},\n",
"                '000001': {'name': 'sepal width', 'optype': 'numeric'},\n",
"                '000002': {'name': 'petal length', 'optype': 'numeric'},\n",
"                '000003': {'name': 'petal width', 'optype': 'numeric'},\n",
"                '000004': {'name': 'species',\n",
"                           'optype': 'categorical',\n",
"                           'term_analysis': {'enabled': True}}},\n",
"     }"
]
},
{
"cell_type": "code",
"execution_count": null,
"metadata": {},
"outputs": [],
"source": [
"source2 = api.create_source(source1_file, args)\n",
"api.ok(source2)\n"
]
}
],
"metadata": {},
"nbformat": 4,
"nbformat_minor": 2
}