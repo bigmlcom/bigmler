{
"cells": [
{
"cell_type": "markdown",
"id": "00de3270",
"metadata": {},
"source": [
"Reified resource: source"
]
},
{
"cell_type": "markdown",
"id": "762b76c4",
"metadata": {},
"source": [
"Remember to set your credentials in the BIGML_USERNAME and BIGML_API_KEY environment variables."
]
},
{
"cell_type": "code",
"execution_count": null,
"id": "9c8282ac",
"metadata": {},
"outputs": [],
"source": [
"from bigml.api import BigML\n",
"api = BigML()"
]
},
{
"cell_type": "markdown",
"id": "f54495ad",
"metadata": {},
"source": [
"Add the inputs for the workflow"
]
},
{
"cell_type": "code",
"execution_count": null,
"id": "14126a4b",
"metadata": {},
"outputs": [],
"source": [
"source1_file = \"iris.csv\""
]
},
{
"cell_type": "markdown",
"id": "3dd1906b",
"metadata": {},
"source": [
"<br/>Step 1<br/>Python for resource: my_source_name<br/>(5 fields (1 categorical, 4 numeric))<br/>source<br/>}